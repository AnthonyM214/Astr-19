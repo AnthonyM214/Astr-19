{
 "cells": [
  {
   "cell_type": "markdown",
   "id": "65109940-20e6-4735-999a-edb1b6219bba",
   "metadata": {},
   "source": [
    "# Return sin(x)! -Creates and returns sin of x-"
   ]
  },
  {
   "cell_type": "code",
   "execution_count": null,
   "id": "94e1dea7-f19c-480a-b6c1-575b5e5e4c09",
   "metadata": {},
   "outputs": [],
   "source": [
    "import numpy as np\n",
    "def sin(x):\n",
    "  sin_x = np.sin(x) ##There is probably a less redundant way to do assign sin. \n",
    "  return sin_x"
   ]
  },
  {
   "cell_type": "markdown",
   "id": "771bd934-8f4e-4bff-9133-9bdc644b1ae8",
   "metadata": {},
   "source": [
    "# Return cos(x)! -Creates and returns cos of x-"
   ]
  },
  {
   "cell_type": "code",
   "execution_count": null,
   "id": "03ffd5d3-2620-49a5-9ee5-20e38fc0a0d0",
   "metadata": {},
   "outputs": [],
   "source": [
    "import numpy as np\n",
    "def cos(x):\n",
    "    cos_x = np.cos(x)\n",
    "    return cos_x"
   ]
  },
  {
   "cell_type": "markdown",
   "id": "ef64d788-9694-4b32-916a-8bf71b4e797e",
   "metadata": {},
   "source": [
    "# Tabulating between sin(x) & cos(x) [0..2$pi$] with 1000 entries"
   ]
  },
  {
   "cell_type": "code",
   "execution_count": null,
   "id": "43a5ca97-731e-4f09-bb21-ace90c0d4c89",
   "metadata": {},
   "outputs": [],
   "source": [
    "import numpy as np # can never be too sure...\n",
    "T = np.linspace(0,2*np.pi,num=1000) ##Generates a table from 0 to 2pi with 1000 entries\n",
    "sin_values=[sin(x) for x in T] ## Calculates sin of each x value in T\n",
    "cos_values=[cos(x) for x in T] ## Same but for cos.\n",
    "##print(sin_values)"
   ]
  },
  {
   "cell_type": "markdown",
   "id": "809cb7ed-961d-4de4-8ce5-a515788644f7",
   "metadata": {},
   "source": [
    "# Utilizing for-loops "
   ]
  },
  {
   "cell_type": "code",
   "execution_count": 13,
   "id": "c610a3fe-d53a-4ba1-8976-919231e8a113",
   "metadata": {},
   "outputs": [
    {
     "name": "stdout",
     "output_type": "stream",
     "text": [
      "x\t\t sin(x)\t\t cos(x)\t\n",
      "0.000000\t 0.000000\t 1.000000\n",
      "0.006289\t 0.006289\t 0.999980\n",
      "0.012579\t 0.012579\t 0.999921\n",
      "0.018868\t 0.018867\t 0.999822\n",
      "0.025158\t 0.025155\t 0.999684\n",
      "0.031447\t 0.031442\t 0.999506\n",
      "0.037737\t 0.037728\t 0.999288\n",
      "0.044026\t 0.044012\t 0.999031\n",
      "0.050316\t 0.050295\t 0.998734\n",
      "0.056605\t 0.056575\t 0.998398\n"
     ]
    }
   ],
   "source": [
    "## Prints out the first 10 values of x, sin(x) and cos(x) in columns (formatting challenge)\n",
    "print(\"x\\t\\t sin(x)\\t\\t cos(x)\\t\")\n",
    "for i in range(10):\n",
    "    print(f\"{T[i]:f}\\t {sin_values[i]:f}\\t {cos_values[i]:f}\") ## /t is god here."
   ]
  },
  {
   "cell_type": "code",
   "execution_count": null,
   "id": "42a723de-95df-46d9-9a23-ea9ca7914e2c",
   "metadata": {},
   "outputs": [],
   "source": []
  }
 ],
 "metadata": {
  "kernelspec": {
   "display_name": "Python 3 (ipykernel)",
   "language": "python",
   "name": "python3"
  },
  "language_info": {
   "codemirror_mode": {
    "name": "ipython",
    "version": 3
   },
   "file_extension": ".py",
   "mimetype": "text/x-python",
   "name": "python",
   "nbconvert_exporter": "python",
   "pygments_lexer": "ipython3",
   "version": "3.11.5"
  }
 },
 "nbformat": 4,
 "nbformat_minor": 5
}
